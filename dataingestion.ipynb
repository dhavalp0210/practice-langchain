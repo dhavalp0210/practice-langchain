{
 "cells": [
  {
   "cell_type": "code",
   "execution_count": 1,
   "metadata": {},
   "outputs": [],
   "source": [
    "from langchain_community.document_loaders import TextLoader"
   ]
  },
  {
   "cell_type": "code",
   "execution_count": 16,
   "metadata": {},
   "outputs": [],
   "source": [
    "loader = TextLoader('speech.txt')"
   ]
  },
  {
   "cell_type": "code",
   "execution_count": 17,
   "metadata": {},
   "outputs": [],
   "source": [
    "text_documents = loader.load()\n"
   ]
  },
  {
   "cell_type": "code",
   "execution_count": 18,
   "metadata": {},
   "outputs": [
    {
     "data": {
      "text/plain": [
       "[Document(metadata={'source': 'speech.txt'}, page_content='Speech recognition is an interdisciplinary subfield of computer science and computational linguistics that develops methodologies and technologies that enable the recognition and translation of spoken language into text by computers. It is also known as automatic speech recognition (ASR), computer speech recognition or speech-to-text (STT). It incorporates knowledge and research in the computer science, linguistics and computer engineering fields. The reverse process is speech synthesis.\\n\\nSome speech recognition systems require \"training\" (also called \"enrollment\") where an individual speaker reads text or isolated vocabulary into the system. The system analyzes the person\\'s specific voice and uses it to fine-tune the recognition of that person\\'s speech, resulting in increased accuracy. Systems that do not use training are called \"speaker-independent\"[1] systems. Systems that use training are called \"speaker dependent\".\\n\\nSpeech recognition applications include voice user interfaces such as voice dialing (e.g. \"call home\"), call routing (e.g. \"I would like to make a collect call\"), domotic appliance control, search key words (e.g. find a podcast where particular words were spoken), simple data entry (e.g., entering a credit card number), preparation of structured documents (e.g. a radiology report), determining speaker characteristics,[2] speech-to-text processing (e.g., word processors or emails), and aircraft (usually termed direct voice input). Automatic pronunciation assessment is used in education such as for spoken language learning.\\n\\nThe term voice recognition[3][4][5] or speaker identification[6][7][8] refers to identifying the speaker, rather than what they are saying. Recognizing the speaker can simplify the task of translating speech in systems that have been trained on a specific person\\'s voice or it can be used to authenticate or verify the identity of a speaker as part of a security process.\\n\\nFrom the technology perspective, speech recognition has a long history with several waves of major innovations. Most recently, the field has benefited from advances in deep learning and big data. The advances are evidenced not only by the surge of academic papers published in the field, but more importantly by the worldwide industry adoption of a variety of deep learning methods in designing and deploying speech recognition systems.')]"
      ]
     },
     "execution_count": 18,
     "metadata": {},
     "output_type": "execute_result"
    }
   ],
   "source": [
    "text_documents"
   ]
  },
  {
   "cell_type": "code",
   "execution_count": 36,
   "metadata": {},
   "outputs": [],
   "source": [
    "from langchain_text_splitters import RecursiveCharacterTextSplitter"
   ]
  },
  {
   "cell_type": "code",
   "execution_count": 37,
   "metadata": {},
   "outputs": [
    {
     "name": "stdout",
     "output_type": "stream",
     "text": [
      "[Document(metadata={}, page_content='Speech recognition is an interdisciplinary subfield of computer science and computational'), Document(metadata={}, page_content='and computational linguistics that develops methodologies and technologies that enable the'), Document(metadata={}, page_content='that enable the recognition and translation of spoken language into text by computers. It is also'), Document(metadata={}, page_content='It is also known as automatic speech recognition (ASR), computer speech recognition or'), Document(metadata={}, page_content='recognition or speech-to-text (STT). It incorporates knowledge and research in the computer'), Document(metadata={}, page_content='in the computer science, linguistics and computer engineering fields. The reverse process is speech'), Document(metadata={}, page_content='process is speech synthesis.'), Document(metadata={}, page_content='Some speech recognition systems require \"training\" (also called \"enrollment\") where an individual'), Document(metadata={}, page_content='where an individual speaker reads text or isolated vocabulary into the system. The system analyzes'), Document(metadata={}, page_content=\"The system analyzes the person's specific voice and uses it to fine-tune the recognition of that\"), Document(metadata={}, page_content=\"recognition of that person's speech, resulting in increased accuracy. Systems that do not use\"), Document(metadata={}, page_content='that do not use training are called \"speaker-independent\"[1] systems. Systems that use training are'), Document(metadata={}, page_content='use training are called \"speaker dependent\".'), Document(metadata={}, page_content='Speech recognition applications include voice user interfaces such as voice dialing (e.g. \"call'), Document(metadata={}, page_content='dialing (e.g. \"call home\"), call routing (e.g. \"I would like to make a collect call\"), domotic'), Document(metadata={}, page_content='call\"), domotic appliance control, search key words (e.g. find a podcast where particular words'), Document(metadata={}, page_content='particular words were spoken), simple data entry (e.g., entering a credit card number), preparation'), Document(metadata={}, page_content='preparation of structured documents (e.g. a radiology report), determining speaker'), Document(metadata={}, page_content='determining speaker characteristics,[2] speech-to-text processing (e.g., word processors or'), Document(metadata={}, page_content='word processors or emails), and aircraft (usually termed direct voice input). Automatic'), Document(metadata={}, page_content='input). Automatic pronunciation assessment is used in education such as for spoken language'), Document(metadata={}, page_content='for spoken language learning.'), Document(metadata={}, page_content='The term voice recognition[3][4][5] or speaker identification[6][7][8] refers to identifying the'), Document(metadata={}, page_content='to identifying the speaker, rather than what they are saying. Recognizing the speaker can simplify'), Document(metadata={}, page_content='can simplify the task of translating speech in systems that have been trained on a specific'), Document(metadata={}, page_content=\"on a specific person's voice or it can be used to authenticate or verify the identity of a speaker\"), Document(metadata={}, page_content='of a speaker as part of a security process.'), Document(metadata={}, page_content='From the technology perspective, speech recognition has a long history with several waves of major'), Document(metadata={}, page_content='waves of major innovations. Most recently, the field has benefited from advances in deep learning'), Document(metadata={}, page_content='in deep learning and big data. The advances are evidenced not only by the surge of academic papers'), Document(metadata={}, page_content='of academic papers published in the field, but more importantly by the worldwide industry adoption'), Document(metadata={}, page_content='industry adoption of a variety of deep learning methods in designing and deploying speech'), Document(metadata={}, page_content='deploying speech recognition systems.')]\n"
     ]
    }
   ],
   "source": [
    "speech=\"\"\n",
    "with open(\"speech.txt\") as f:\n",
    "    speech=f.read()\n",
    "\n",
    "\n",
    "\n",
    "text_splitter = RecursiveCharacterTextSplitter(chunk_size=100,chunk_overlap=20)\n",
    "text = text_splitter.create_documents([speech])\n",
    "print(text)"
   ]
  },
  {
   "cell_type": "code",
   "execution_count": null,
   "metadata": {},
   "outputs": [],
   "source": []
  }
 ],
 "metadata": {
  "kernelspec": {
   "display_name": "Python 3",
   "language": "python",
   "name": "python3"
  },
  "language_info": {
   "codemirror_mode": {
    "name": "ipython",
    "version": 3
   },
   "file_extension": ".py",
   "mimetype": "text/x-python",
   "name": "python",
   "nbconvert_exporter": "python",
   "pygments_lexer": "ipython3",
   "version": "3.10.0"
  }
 },
 "nbformat": 4,
 "nbformat_minor": 2
}
